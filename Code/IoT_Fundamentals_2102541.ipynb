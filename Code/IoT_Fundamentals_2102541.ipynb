{
  "nbformat": 4,
  "nbformat_minor": 0,
  "metadata": {
    "colab": {
      "name": "IoT_Fundamentals_2102541",
      "version": "0.3.2",
      "provenance": [],
      "collapsed_sections": [
        "HRQuwc5UEY-4",
        "ksHGDAUCFIr6",
        "xAzIplggGkZh",
        "eio7Ug4fHBO_",
        "x9WIAW3YLHHJ",
        "3O4S_YlMP81a",
        "OnFfS9xfQkuW"
      ]
    },
    "kernelspec": {
      "name": "python2",
      "display_name": "Python 2"
    },
    "accelerator": "GPU"
  },
  "cells": [
    {
      "metadata": {
        "id": "4gA_7iZxYfwz",
        "colab_type": "text"
      },
      "cell_type": "markdown",
      "source": [
        "# Project 3 on Data Analytics by sukrit jaidee 6170306321\n",
        "**A Machine-Learning Approach for Regional Photovoltaic Power Forecasting\n",
        "<br>Introduction\n",
        "** <font color='green'>\n",
        "<br>What to Forecast  ? => project นี้จะพยากรณ์  Solar Power generation\n",
        "<br>Why Solar ? => เพราะ solar เป็น clean energy ไม่ทำลายสิ่งแวดล้อม แต่ solar เป็นพลังงานที่มีความแปรปวนขึ้นอยู่กับสภาพอากาศ และ 20% ถึง 40% Renewable energy สูญเสียไปเนื่องจากความแปรปวน \n",
        "<br>Why to Forecast?  => Grid Stability\n",
        "<br>When to Forecast? : พยากรณ์ล่วงหน้า 1 วัน สำหรับ Scheduling และ Supply\n",
        " <br>Where to Forecast? :  Plant level (same IPP)\n",
        "<br> How? => โดยการใช้ Numerical Weather Prediction(NWP) + machine learning**</font>"
      ]
    },
    {
      "metadata": {
        "id": "zCGcx0kFcNkK",
        "colab_type": "text"
      },
      "cell_type": "markdown",
      "source": [
        "**ขั้นตอนการ Implement**\n",
        "1. ติดตั้งและ import libraries ที่จำเป็น\n",
        "2. download data จาก google drive ของผม\n",
        "3.  Convert netcdf4 to dictionary โดยที่ฟังก์ชัน netcdf4_to_dict เป็นฟังก์ชันที่ทำหน้าที่เปลี่ยน format ของข้อมูลจาก netcdf4 เป็น dict(python) <br>ก่อนอื่นของอธิบายก่อนว่าข้อมูล ข้อมูลที่อยู่ format netcdf4 จะประกอบไปด้วยหลายๆ object ตามที่อธิบายใน **ref[1]** แต่ obect ที่เราจะพิจารณาในขั้นตอนนี้จะเป็น object **variables**  ซึ่งภายใน object variables ก็ประกอบไปด้วยหลายๆ object อีกได้แก่ time, intTime, lat, lon,  ens,  fhour,  intValidTime(time,fhour),  myfeature(พีเจอร์ที่เรากำลังพิจารณา) (time,ens,fhour,lat,lon) ซึ่งในขั้นตอนนี้เราจะสนใจใน myfeature ซึ่งใน myfeature ก็จะประกอบไปด้วยหลายๆ object อีกคือ time, ens, fhour, lat, lon ซึ่งเป็นสิ่งที่เรากำลังจะพิจารณาในขั้นตอนนี้ ขอเขียนการเข้าถึงให้ดูอีกครั้งเพื่อความเข้าใจ ไพล์ netcdf4 =>  variables => myfeature =>  (time,ens,fhour,lat,lon) \n",
        "<br> ต่อมามาดูที่ dimension ของ myfeature มันมี 5 dimension ดังนี้ ('time', 'ens', 'fhour', 'lat', 'lon') = (5113, 11, 5, 9, 16) โดยที่ \n",
        "<br>**time** คือเวลา มีทั้งหมด 5113 วัน ก็คือเป็นข้อมูลตั้งแต่ 1994-2007 (14 ปี), \n",
        "<br> **ens** คือ โมเดล nwp มีทั้งหมด 11 โมเดล,\n",
        "<br> **fhour** คือ forecast hours มีทั้งหมด 5 แบบ,\n",
        "<br> **lat** คือ  latitudes ประกอบไปด้วย 9 ค่าด้วยกัน คือ 31, 32, 33, 34, 35, 36, 37, 38, 39\n",
        "<br> **lon** คือ longitudes ประกอบไปด้วย 16 ค่าด้วยกัน คือ  254, 255, 256, 257, 258, 259, 260, 261, 262, 263, 264, 265, 266, 267, 268, 269\n",
        "<br>พอเข้าใจแล้วนะครับ งั้นมาต่อกันที่ step3 \n",
        "<br> สิ่งที่ฟังก์ชันนี้ทำจะประกอบไปด้วย 3 อย่างด้วยกันคือเริ่มแรกฟังก์ชันนี้จะทำการวน 2 for loop เพื่อสร้าง list ของตำแหน่งต่างๆจาก  lat และ lon ผลลัพธ์ที่ได้ก็คือ \n",
        "<br>(31,254),(31,255),....,(31,261),\n",
        "<br>(32,254),(32,255),....,(32,261),\n",
        "<br>(33,254),(33,255),....,(33,261),\n",
        "<br>.\n",
        "<br>.\n",
        "<br>(39,254),(39,255),....,(39,261),\n",
        "<br>หมายความว่าในแต่ละรอบของการวน loop จะเป็นการสร้าง 1 ตำแหน่ง เช่น รอบที่ 1 จะเป็นการสร้าง (31,254) เป็นต้น ดังนั้นเราจะวน loop ทั้งหมด 9*16 = 144 รอบ \n",
        "<br>ยกตัวอย่างรอบที่ 1 : \n",
        "<br> - (lat, lon) = (31,254)\n",
        "<br> - ('time', 'ens', 'fhour', 'lat', 'lon')  = ('time', 'ens', 'fhour', '31', '254') ก็คือเราจะได้ค่าของ time', 'ens', 'fhour ที่ตำแหน่ง (31,254) มา dimension ก็จะกลายเป็น  ('time', 'ens', 'fhour') = (5113, 11, 5) \n",
        "<br> - หลังจากนั้นเราจะหาค่า medien ของทั้ง 11 โมเดล ใน dimension ที่ ทำให้หลังจากหาค่า medien ของทั้ง 11 โมเดลเสร็จ list ที่ได้จะเป็น list ที่เกิดจากการหา medien ของทั้ง 11 โมเดล และ dimension ที่เหลือตอนนี้คือ ('time', 'fhour') = (5113, 5) \n",
        "<br> - ต่อมาเราจะทำการหาค่า medien ของทั้ง  5 fhour หลังจากหา medien dimension ที่ได้ก็คือ ('time') = (5113) \n",
        "<br>ก็คือเราจะได้ค่าของ feature ที่เราสนใจออกมาซึ่งก็คือค่า feature ที่เกิดจากการหาค่า medien ของทั้ง 11 โมเดล และ เกิดจากการหาค่า medien ของทั้ง 5 forecasthour ยกตัวอย่างถ้าเป็น temp feature เราก็จะได้ค่า temp feature ที่มากจากการหา medien ของทั้ง 11 โมเดล และ 5 forecast hour \n",
        "<br>หลังจากนั้นเขาจะทำกา่รจากนั้นจะสร้าง dictionary ที่มี key เป็น (lat, lon) และ value ที่เป็นค่าของ feature ที่ได้จากการหา medien โอเคจบ step 3 เหนื่อยจริงๆ\n",
        "4.  เรา่จะทำการโหลด feature ที่จะใช้ในการพยากณณ์จาก  google drive เรา แล้วทำการแปลง feature ทั้งหมดในข้อ 3 ให้เป็น dictionary ที่มี key เป็น (lat, lon) และ value เป็นค่าที่เกิดจากการหา medien โดยใช้ฟังก์ชั่นที่ได้จากขั้นตอนที่  3\n",
        "5. ขั้นตอนนีจะเป็นการ macth (lat, lon) ของ weather station จริง เข้ากับ (lat, lon) ของข้อมูลพยากรณ์อากาศที่ใกล้ที่สุดที่เกิดจาก nwp model กล่าวคือ ตอนนี้เรามี (lat, lon) ของ  weather station จริงซึ่งเป็นที่ตั้งของ solar farm จริงๆ ที่ซึ่ง solar farm นี้จะผลิตพลังงานไฟฟ้าออกมา แต่ที่ solar farm แต่ละ station ในโปรเจ็คนี้ไม่มีค่าของ weather data เราเลยใช้ nwp model (ซี่งก็คือโมเดลที่ให้ค่าพยากณณ์อากาศแต่ละจุดออกมา โมเดลนี้เป็น model ของโลกคือโมเดลนี้จะให้ค่าพยากรณ์อากาศทั่วทั้งโลกขึ้นอยู่กับว่าเราจะพิจารณาที่ตำแหน่งไหนของโลก ในโปรเจ็คนี้พิจารณาที่ (lat,lon) ที่่ให้ดังขั้นตอนที่ผ่านมา) แต่มีปัญหาตรงที่เราจะต้องเลือกว่าเราจะเอาค่าพยากรณ์ที่ตำแหน่งไหนมาให้กับ station จริงของเรา\n",
        "<br>โดยวิธีการทำก็คือเราจะสร้าง dictionary ที่เป็น list ของรายชื่อ feature ที่จะใช้ในการพยากรณ์ ซึ่งเราจะเห็นว่า ข้อมูลพยากรณ์อากาศที่ได้จาก nwp model มีการกระจายตัวทีมากกว่า ตำแหน่งของ solar farm จริงๆ ดังนั้นเราจะ matching ตำแหน่งของ solar farm ไปยัง ตำแหน่งพยากรณ์อากาศที่เกิดจาก nwp model โดยการ แต่ๆๆๆ เดี๋ยวก่อนลืมบอกไปว่า ค่า (lat,lon) ของ ตำแหน่ง solar farm จริงๆ มีความไม่เป็นเลขทศนิยมไม่ได้เป็นเลขจำนวนเต็ม และเนื่องจากการกระจายตัวของค่าพยากณ์ของ nwp model มีการกระจายตัวที่มากกว่าดังนั้นในการที่เราจะ match ค่า (lat,lon) ของ solar farm จริงๆไปยัง ตำแหน่งของ nwp model เราก็แค่เปลี่ยน (lat,lon) ของ solar farm จริงๆ ไปเป็นเลขจำนวนเต็มก็จะได้แล้วว่าจะเอาค่าพยากรณ์อากาศที่ไหนมาให้กับ station นี้ แต่ๆๆๆ วิธีการนี้อาจเป็นวิธีการที่ไม่ดี ยังมีวิธีที่ดีกว่านี้อีก เช่น inverse distance weighting(IDW) หรือจะเป็น Kriging หรือจะเป็น clustering\n",
        "<br> โดยขั้นตอนนี้เราจะทำการโหลดข้อมูลเกี่ยวกับ solar farm มาซี่งประกอบไปด้วย feature ต่างๆดังนี้\n",
        "<br> - stid คือ ชืื่อของ solar farm site\n",
        "<br> - nlat คือ  latitude\n",
        "<br> - elon คือ  longitude\n",
        "<br> - elev คือ ระดับความสูง\n",
        "<br> และทำการ convert ค่า lat, lon ของ solar farm ไปเป็นค่าตัวเลขจำนวณเต็ม หรือ integer เพื่อที่จะได้ match เข้ากับค่าพยากรณ์อากาศจาก mwp model\n",
        "<br> สร้าง ฟังก์ชัน station_dic จะทำการสร้าง dictionary ที่มี key เป็น (lat,lon)  ของแต่ละ solar farm และ value เป็น feature ที่เราสนใจ ณ ตำแหน่ง (lat,lon)  ของแต่ละ solar farm นั้น หลังจากนั้นเราจะทำการสร้าง สร้าง dictionary ของทุกๆ feature สำหรับทุกๆ solar farm \n",
        "6. โหลดไพล์ train.csv ซึ่งเป็นไพล์ที่ประกอบไปด้วยค่า power ของ solar farm แต่ละแห่ง ในแต่ละวัน ซึ่งเรามี solar farm ทั้งหมด 98 ที่ หลังจากนั้น เปลี่ยน date ที่อยู่ในรูปแบบ integer ให้อยู่ในรูปแบบ pandas date time\n",
        "7. แบ่ง label ของเราซึ่งก็คือค่า power แต่ละ solar far ออกเป็น 3 ชุด คือ\n",
        "<br>  shape ของ label ทั้งหมดของเราคือ (5112,99)\n",
        "<br>0-1704 shape คือ (1704, 99)\n",
        "<br>1704-3408 shape คือ (1704, 99)\n",
        "<br>3408-5112 shape คือ (1704, 99)\n",
        "<br>หลังจากนั้นเราจะ drop cloumn (elev) ซึ่งเป็นระดับความสู้ของแต่ละ solar farm ทิ้ง และ convert จาก <br>dataframe ไปเป็น dictionary ที่มี key เป็น ชื่อของ solar farm station สิ่งที่ได้ก็คือ\n",
        "<br> key ('ACME') => [34, 261]\n",
        "<br> key ('ADAX') => [34, 263]\n",
        "<br>.\n",
        "<br>key ('WYNO') =>[36, 263]\n",
        "<br> เป็นต้น\n",
        "<br> หลังจากนั้นเราจะสร้างฟังก์ชัน  station_feature หน้าที่ของฟังก์ชันนี้ก็คือ  ก่อนอื่นของอธิบาย parameter ก่อน\n",
        " <br>.\n",
        "<br> - **stn_feat 1-15** คือค่าของ feature ในแต่ละ solar farm ที่มี key เป็น (lat,lon)  ของแต่ละ solar farm \n",
        "<br>และ value เป็น feature ที่เราสนใจ ณ ตำแหน่ง (lat,lon)  ของแต่ละ solar farm นั้น\n",
        "<br> key (lat,lon) => ค่าของ feature ที่เราสนใจ ณ ตำแหน่ง (lat,lon)  ของแต่ละ solar farm นั้น\n",
        "<br>.\n",
        "<br> - **stn_dict** คือ  dictionary(stn_dict) ที่มี key เป็น ชื่อของ solar farm station และ value เป็นค่า (lat, lon) ของ solar farm นั้น\n",
        " <br> key ('ACME') => value (lat,lon)\n",
        "  <br>.\n",
        "<br> start คือ จะเริ่มที่ sample ที่เท่าไรของข้อมูล\n",
        "<br> end คือ เอาข้อมูลถึง sample ที่เท่าไร\n",
        "<br> stid คือ ชื่อของ solar farm station\n",
        "<br>โดยฟังก์ชันนี้จะ return ค่าของ feature ณ ตำแหน่ง lat/lon ของ solar farm นั้นออกมา\n",
        "<br>เย้ ได้ค่าของ feature ที่ตำแหน่ง ACME solar farm  ออกมาแล้ว\n",
        "8. ทำการพยากรณ์ power ที่ ACME solar farm หลังจากนั้น สร้างตัวแปร target (mesonet)  ซี่งก็คือค่า  power ที่  \"ACME\" station หลังจากนั้น ให้ X  คือ dataframe ของ feature ต่างๆ ที่ \"ACME\" solar farm station หลังจากนั้นทำการ  Standardize variables ให้อยู่ในช่วง 0-1  และแบ่งข้อมูลออกเป็น train และ test ก็คือ X_train, X_test, y_train, y_test แล้ว train model ด้วยคำสั่ง fit หลังจากนั้น Evaluate ผลจากทั้ง train และ test data ผลที่ได้ก็คือ \n",
        "<br>Test Score 0.775\n",
        "<br>Train Score 0.759\n",
        "<br> ลอง Perform ที่ 5-fold cross validation\n",
        "<br>Cross-validated scores: [0.7233376  0.6589547  0.83836188 0.74949864 0.59043731 0.84316504\n",
        " 0.7169481  0.54446624 0.74641008 0.81398921]\n",
        "\n",
        "\n",
        "\n"
      ]
    },
    {
      "metadata": {
        "id": "3rcoJ4rxng_l",
        "colab_type": "text"
      },
      "cell_type": "markdown",
      "source": [
        "**อธิบายเพิ่มเติม : ref[1]**\n",
        "<br> ไพล์นามสกุล netcdf4 เป็นไพล์ในสรูปแบบของ OrderedDict (dictionary + list) เราสามารถเข้าถึง object ต่างๆได้จาก name และ index\n",
        "<br>ไพล์จะประกอบไปด้วยหลายๆ object ในการเข้าถึง ได้แก่ \n",
        "<br>**Conventions** => CF-1.0\n",
        "<br>**title** => จะบอกว่า data นี้คืออะไรมาจากหน่วยงานไหน เช่น  Subset of data from 2nd-generation multi-decadal ensemble reforecast generated from the NCEP\n",
        "<br>**institution** => บอกเกี่ยวกับองค์กรที่ทำ เช่น NOAA Earth System Research Laboratory (ESRL)\n",
        "<br>**source** => NCEP GFS v 9.01, T254L42.  Control initial conditions from CFSRR.  Perturbed initial conditions from ETR.  Model error simulated with STTP.\n",
        "<br>**references** => http://www.esrl.noaa.gov/psd/forecasts/reforecast2/index.html\n",
        "<br>**history** => Subset created 2013-01-15 19:17:02 UTC\n",
        "<br>**comment** => Original dataset generated on DOE's supercomputers at Lawrence Berkeley Laboratory through ALCC/ASCR grant.\n",
        "<br> **dimensions(sizes)** =>  time(5113), lat(9), lon(16), ens(11), fhour(5)\n",
        "<br> **variables(dimensions)** => time(time), intTime(time), lat(lat), lon(lon),  ens(ens),  fhour(fhour),  intValidTime(time,fhour),  considering feature (time,ens,fhour,lat,lon)\n",
        "<br>วิธีการเข้าถึงแต่ละไพล์ ชื่อไพล์.xxx(สิ่งที่ต้องการเข้าถึง)\n",
        "<br>  แต่ object ที่เราสนใจและใช้ในการพยากรณ์จะมีเพียง 2 object คือ ***dimensions*** และ ***variables***\n",
        "<br> ต่อไปเราจะขออธิบายโครงสร้างของ object ของ dimensions และ object ของ variables\n",
        "<br> - dimensions จะประกอบไปด้วย  key ในการเข้าถึงดังต่อไปนี้ time, lat, lon, ens,fhour\n",
        "<br> - variables จะประกอบไปด้วย key ในการเข้าถึงดังต่อไปนี้ time, intTime ,lat ,lon ,ens ,fhour ,intValidTime , considering feature (feature ที่เราสนใจ)\n",
        "โดย Object ที่เราสนใจมากที่สุดก็คือ considering feature (feature ที่เราสนใจ) เนื่องจากจะเป็น featuren ที่เราใช้ในการพยากรณ์"
      ]
    },
    {
      "metadata": {
        "id": "HRQuwc5UEY-4",
        "colab_type": "text"
      },
      "cell_type": "markdown",
      "source": [
        "# 1. Install libraries &Import Libraries"
      ]
    },
    {
      "metadata": {
        "id": "jmz-I2jLEjyK",
        "colab_type": "text"
      },
      "cell_type": "markdown",
      "source": [
        "** <font color='green'>ติดตั้ง libraries netcdf4 เนื่องจากข้อมูลเราอยู่ใน format ที่เป็น netcdf4\n",
        "<br> ขอมูลทางวิทยาศาสตร์ส่วนใหญ่จะเก็บในรูปแบบไพล์ netcdf4 \n",
        "<br> import libraries\n",
        "</font>**"
      ]
    },
    {
      "metadata": {
        "id": "qS-B5B-NEWkq",
        "colab_type": "code",
        "outputId": "f500e263-e518-4382-945e-ebaa0376e2c5",
        "colab": {
          "base_uri": "https://localhost:8080/",
          "height": 68
        }
      },
      "cell_type": "code",
      "source": [
        "!pip install netcdf4\n",
        "import numpy as np\n",
        "import netCDF4 as nc \n",
        "import random\n",
        "import pandas as pd\n",
        "import matplotlib.pyplot as plt\n",
        "import seaborn as sns"
      ],
      "execution_count": 1,
      "outputs": [
        {
          "output_type": "stream",
          "text": [
            "Requirement already satisfied: netcdf4 in /usr/local/lib/python2.7/dist-packages (1.5.0.1)\n",
            "Requirement already satisfied: numpy>=1.7 in /usr/local/lib/python2.7/dist-packages (from netcdf4) (1.14.6)\n",
            "Requirement already satisfied: cftime in /usr/local/lib/python2.7/dist-packages (from netcdf4) (1.0.3.4)\n"
          ],
          "name": "stdout"
        }
      ]
    },
    {
      "metadata": {
        "id": "ksHGDAUCFIr6",
        "colab_type": "text"
      },
      "cell_type": "markdown",
      "source": [
        "# 2. Load Data "
      ]
    },
    {
      "metadata": {
        "id": "NEX8O5jSFQGo",
        "colab_type": "text"
      },
      "cell_type": "markdown",
      "source": [
        "**<font color='green'>เชื่อมต่อไปยัง google drive ของผม และ authorization ด้วย authorization code</font>**"
      ]
    },
    {
      "metadata": {
        "id": "NGtapvJOGHn_",
        "colab_type": "code",
        "outputId": "ca2485ac-be5b-4b51-8f3a-ff4b1ec7ec72",
        "colab": {
          "base_uri": "https://localhost:8080/",
          "height": 34
        }
      },
      "cell_type": "code",
      "source": [
        "from google.colab import drive\n",
        "drive.mount('/content/drive') "
      ],
      "execution_count": 2,
      "outputs": [
        {
          "output_type": "stream",
          "text": [
            "Drive already mounted at /content/drive; to attempt to forcibly remount, call drive.mount(\"/content/drive\", force_remount=True).\n"
          ],
          "name": "stdout"
        }
      ]
    },
    {
      "metadata": {
        "id": "xAzIplggGkZh",
        "colab_type": "text"
      },
      "cell_type": "markdown",
      "source": [
        "# **3. Convert netcdf4 to dictionary**"
      ]
    },
    {
      "metadata": {
        "id": "UMu13GnsG3Oi",
        "colab_type": "text"
      },
      "cell_type": "markdown",
      "source": [
        "<br><font color='green'> **ฟังก์ชัน netcdf4_to_dict **\n",
        "<br>ฟังก์ชัน netcdf4_to_dict เป็นฟังก์ชันที่ทำหน้าที่เปลี่ยน format ของข้อมูลจาก netcdf4 เป็น dictionary\n",
        "<br> ที่มี key เป็น (lat, lon) และ value คือค่าของ feature ที่เราสนใจที่เกิดจากการหา medien ของทั้ง 11 โมเดล และ medien ของทั้ง 5 forecast hour \n",
        "<br> มีทั้งหมด 114 samples ดังนัั้น \n",
        "<br>  key = (31,254), value = xx(ค่าของ feature ที่เกิดจากการหา medien)\n",
        "<br>  key =(31,255), value = xx\n",
        "<br>.\n",
        "<br> key =(39,261), value = xx\n",
        "<br>สามารถอ่านรายละเอียดมากกว่านี้ได้จากด้านบน\n",
        "</font>"
      ]
    },
    {
      "metadata": {
        "id": "JVkbVGVCGJmO",
        "colab_type": "code",
        "colab": {}
      },
      "cell_type": "code",
      "source": [
        "def netcdf4_to_dict(data_nc):\n",
        "    import timeit\n",
        "    start = timeit.default_timer()\n",
        "    data = data_nc.variables.values()[-1]\n",
        "    c_list=[]\n",
        "    c_dict={}\n",
        "\n",
        "    for l in lat_len:\n",
        "        for n in lon_len:\n",
        "            lat_lon.append(np.column_stack((lat[l],lon[n])))\n",
        "   \n",
        "            temp = list(data[:,:,:,l,n])\n",
        "            pcp = np.median(temp, axis=1) \n",
        "            pcp_av = np.median(pcp,axis=1) \n",
        "            c_list.append([[int(lat[l]),int(lon[n])],pcp_av])\n",
        "    \n",
        "    for n in range(len(c_list)):\n",
        "        k = tuple(c_list[n][0])\n",
        "        v = c_list[n][1]\n",
        "        c_dict[k] = [v]\n",
        "    stop = timeit.default_timer()\n",
        "    print \"Time: %d s\" % (stop - start)\n",
        "    return c_dict"
      ],
      "execution_count": 0,
      "outputs": []
    },
    {
      "metadata": {
        "id": "eio7Ug4fHBO_",
        "colab_type": "text"
      },
      "cell_type": "markdown",
      "source": [
        "# **4. Convert features จาก netCDF4 เป็น dict**"
      ]
    },
    {
      "metadata": {
        "id": "Q4FWi4BUHKwH",
        "colab_type": "text"
      },
      "cell_type": "markdown",
      "source": [
        "**<font color='green'>โหลด feature ต่างๆจาก google drive</font>**\n",
        "<br>Features Description Units\n",
        "<br>1.apcp_sfc 3-Hour accumulated precipitation at the surface kg m-2\n",
        "<br>2.dlwrf_sfc Downward long-wave radiative flux average at the surface W m-2\n",
        "<br>3.dswrf_sfc Downward short-wave radiative flux average at the surface W m-2\n",
        "<br>4.pres_msl Air pressure at mean sea level Pa\n",
        "<br>5.pwat_eatm Precipitable Water over the entire depth of the atmosphere kg m-2\n",
        "<br>6.spfh_2m Specific Humidity at 2 m above ground kg kg-1\n",
        "<br>7.tcdc_eatm Total cloud cover over the entire depth of the atmosphere %\n",
        "<br>8.tcolc_eatm Total column-integrated condensate over the entire atmos. kg m-2\n",
        "<br>9.tmax_2m Maximum Temperature over the past 3 hours at 2 m above the ground K\n",
        "<br>10.tmin_2m Mininmum Temperature over the past 3 hours at 2 m above the ground K\n",
        "<br>11.tmp_2m Current temperature at 2 m above the ground K\n",
        "<br>12.tmp_sfc Temperature of the surface K\n",
        "<br>13.ulwrf_sfc Upward long-wave radiation at the surface W m-2\n",
        "<br>14.ulwrf_tatm Upward long-wave radiation at the top of the atmosphere W m-2\n",
        "<br>15.uswrf_sfc Upward short-wave radiation at the surface W m-2\n",
        "\n",
        "\n"
      ]
    },
    {
      "metadata": {
        "id": "0T2OEo6AG1Zv",
        "colab_type": "code",
        "colab": {}
      },
      "cell_type": "code",
      "source": [
        "#Average Temperature at surface\n",
        "temp_nc = nc.Dataset('/content/drive/My Drive/Regional_forecasts/gefs_train/train/tmp_sfc_latlon_subset_19940101_20071231.nc') \n",
        "#Average Temperature 2m above surface\n",
        "temp2m_nc = nc.Dataset('/content/drive/My Drive/Regional_forecasts/gefs_train/train/tmp_2m_latlon_subset_19940101_20071231.nc') \n",
        "#Minimum Temperature 2m above surface\n",
        "tmin_nc = nc.Dataset('/content/drive/My Drive/Regional_forecasts/gefs_train/train/tmin_2m_latlon_subset_19940101_20071231.nc') \n",
        "#Maximum Temperature 2m above surface\n",
        "tmax_nc = nc.Dataset('/content/drive/My Drive/Regional_forecasts/gefs_train/train/tmax_2m_latlon_subset_19940101_20071231.nc') \n",
        "#Downward long wave radiation at surface\n",
        "dlwave_nc = nc.Dataset('/content/drive/My Drive/Regional_forecasts/gefs_train/train/dlwrf_sfc_latlon_subset_19940101_20071231.nc')\n",
        "#Downward shortwave radiation at surface\n",
        "dswave_nc = nc.Dataset('/content/drive/My Drive/Regional_forecasts/gefs_train/train/dswrf_sfc_latlon_subset_19940101_20071231.nc')\n",
        "#Total cloud cover\n",
        "cloud_nc = nc.Dataset('/content/drive/My Drive/Regional_forecasts/gefs_train/train/tcdc_eatm_latlon_subset_19940101_20071231.nc')\n",
        "#Precipiation at surface\n",
        "precip_nc = nc.Dataset('/content/drive/My Drive/Regional_forecasts/gefs_train/train/apcp_sfc_latlon_subset_19940101_20071231.nc')\n",
        "#Precipitable water over depth of atmosphere\n",
        "pwat_nc = nc.Dataset('/content/drive/My Drive/Regional_forecasts/gefs_train/train/pwat_eatm_latlon_subset_19940101_20071231.nc')\n",
        "#Specifc humidity\n",
        "humid_nc = nc.Dataset('/content/drive/My Drive/Regional_forecasts/gefs_train/train/spfh_2m_latlon_subset_19940101_20071231.nc')\n",
        "#Total condensation\n",
        "conden_nc = nc.Dataset('/content/drive/My Drive/Regional_forecasts/gefs_train/train/tcolc_eatm_latlon_subset_19940101_20071231.nc')\n",
        "#Upward Longwave radiation at surface\n",
        "ulwave_nc = nc.Dataset('/content/drive/My Drive/Regional_forecasts/gefs_train/train/ulwrf_sfc_latlon_subset_19940101_20071231.nc')\n",
        "#Upward longwave radiation at atmoshpere\n",
        "ulwave_atm_nc = nc.Dataset('/content/drive/My Drive/Regional_forecasts/gefs_train/train/ulwrf_tatm_latlon_subset_19940101_20071231.nc')\n",
        "#Upward shortwave radiaiton at surface\n",
        "uswave_nc = nc.Dataset('/content/drive/My Drive/Regional_forecasts/gefs_train/train/uswrf_sfc_latlon_subset_19940101_20071231.nc')\n",
        "#pres_msl Air pressure at mean sea level Pa\n",
        "press_nc = nc.Dataset(\"/content/drive/My Drive/Regional_forecasts/gefs_train/train/pres_msl_latlon_subset_19940101_20071231.nc\") "
      ],
      "execution_count": 0,
      "outputs": []
    },
    {
      "metadata": {
        "id": "pBI2VeXSH8-_",
        "colab_type": "text"
      },
      "cell_type": "markdown",
      "source": [
        "**<font color='green'>แปลง feature เหล่านี้เป็น dictionary </font>**\n",
        "<br>temp_nc, temp2m_nc, tmin_nc, tmax_nc, \n",
        "<br>dlwave_nc, dswave_nc, ulwave_nc, ulwave_atm_nc, uswave_nc,\n",
        "<br>cloud_nc, precip_nc, pwat_nc, humid_nc, conden_nc, Press_dict"
      ]
    },
    {
      "metadata": {
        "id": "dXJV6bprIx3H",
        "colab_type": "code",
        "colab": {}
      },
      "cell_type": "code",
      "source": [
        "lat_lon =[]\n",
        "p_list =[]\n",
        "press_dict = {}\n",
        "lat = press_nc.variables['lat']\n",
        "lon = press_nc.variables['lon']\n",
        "lat_len = list(range(len(lat)))\n",
        "lon_len = list(range(len(lon)))"
      ],
      "execution_count": 0,
      "outputs": []
    },
    {
      "metadata": {
        "id": "MnOU31dsHMxy",
        "colab_type": "code",
        "outputId": "a08ffae8-b662-4c6a-c8b6-2f7d3b9481e6",
        "colab": {
          "base_uri": "https://localhost:8080/",
          "height": 289
        }
      },
      "cell_type": "code",
      "source": [
        "import timeit\n",
        "start = timeit.default_timer()\n",
        "\n",
        "Temp_dict = netcdf4_to_dict(temp_nc)\n",
        "Temp2m_dict = netcdf4_to_dict(temp2m_nc)\n",
        "Tmin_dict = netcdf4_to_dict(tmin_nc)\n",
        "Tmax_dict = netcdf4_to_dict(tmax_nc)\n",
        "\n",
        "Dlwave_dict = netcdf4_to_dict(dlwave_nc)\n",
        "Dswave_dict = netcdf4_to_dict(dswave_nc)\n",
        "Ulwave_dict = netcdf4_to_dict(ulwave_nc)\n",
        "Ulwave_atm_dict = netcdf4_to_dict(ulwave_atm_nc)\n",
        "Uswave_dict = netcdf4_to_dict(uswave_nc)\n",
        "\n",
        "Cloud_dict = netcdf4_to_dict(cloud_nc)\n",
        "Precip_dict = netcdf4_to_dict(precip_nc)\n",
        "Pwat_dict = netcdf4_to_dict(pwat_nc)\n",
        "Humid_dict = netcdf4_to_dict(humid_nc)\n",
        "Conden_dict = netcdf4_to_dict(conden_nc)\n",
        "Press_dict = netcdf4_to_dict(press_nc)\n",
        "\n",
        "\n",
        "stop = timeit.default_timer()\n",
        "print \"Time: %d s\" % (stop - start)"
      ],
      "execution_count": 12,
      "outputs": [
        {
          "output_type": "stream",
          "text": [
            "Time: 37 s\n",
            "Time: 39 s\n",
            "Time: 38 s\n",
            "Time: 39 s\n",
            "Time: 39 s\n",
            "Time: 34 s\n",
            "Time: 38 s\n",
            "Time: 38 s\n",
            "Time: 34 s\n",
            "Time: 38 s\n",
            "Time: 36 s\n",
            "Time: 41 s\n",
            "Time: 41 s\n",
            "Time: 49 s\n",
            "Time: 35 s\n",
            "Time: 582 s\n"
          ],
          "name": "stdout"
        }
      ]
    },
    {
      "metadata": {
        "id": "x9WIAW3YLHHJ",
        "colab_type": "text"
      },
      "cell_type": "markdown",
      "source": [
        "# **5.Match weather station lat/lon to the nearest lat/lon in our forecast data**"
      ]
    },
    {
      "metadata": {
        "id": "ZthQIN-aNG5N",
        "colab_type": "text"
      },
      "cell_type": "markdown",
      "source": [
        "**<font color='green'>สร้าง list ที่ประกอบไปด้วยชื่อของ feature ต่างๆที่ใช้ในการพยากรณ์</font>**"
      ]
    },
    {
      "metadata": {
        "id": "YOrYdQJeKras",
        "colab_type": "code",
        "outputId": "09a043a4-98be-47fa-ec8d-48cf7b3a2055",
        "colab": {
          "base_uri": "https://localhost:8080/",
          "height": 255
        }
      },
      "cell_type": "code",
      "source": [
        "dict_list =['Temp_dict','Temp2m_dict','Tmin_dict','Tmax_dict','Dlwave_dict','Dswave_dict','Ulwave_dict',\n",
        "            'Ulwave_atm_dict','Uswave_dict','Cloud_dict','Precip_dict','Pwat_dict','Humid_dict','Conden_dict']\n",
        "dict_list"
      ],
      "execution_count": 16,
      "outputs": [
        {
          "output_type": "execute_result",
          "data": {
            "text/plain": [
              "['Temp_dict',\n",
              " 'Temp2m_dict',\n",
              " 'Tmin_dict',\n",
              " 'Tmax_dict',\n",
              " 'Dlwave_dict',\n",
              " 'Dswave_dict',\n",
              " 'Ulwave_dict',\n",
              " 'Ulwave_atm_dict',\n",
              " 'Uswave_dict',\n",
              " 'Cloud_dict',\n",
              " 'Precip_dict',\n",
              " 'Pwat_dict',\n",
              " 'Humid_dict',\n",
              " 'Conden_dict']"
            ]
          },
          "metadata": {
            "tags": []
          },
          "execution_count": 16
        }
      ]
    },
    {
      "metadata": {
        "id": "jmTzMsUnNNqX",
        "colab_type": "text"
      },
      "cell_type": "markdown",
      "source": [
        "**<font color='green'>โหลดตำแหน่ง(lat, lon) ของ solar farm จริงๆมา\n",
        "<br>ในไพล์ station_info_add_360.csv จะประกอบไปด้วย 4 feature\n",
        "<br>1. stid คือ ชืื่อของ solar farm site\n",
        "<br>2. nlat คือ  latitude\n",
        "<br>3. elon คือ  longitude\n",
        "<br>4. elev คือ ระดับความสูง\n",
        "</font>**\n"
      ]
    },
    {
      "metadata": {
        "id": "nv7F6-qFNJ8m",
        "colab_type": "code",
        "outputId": "aa9ae984-d9c0-470a-caaa-540d17c62e0f",
        "colab": {
          "base_uri": "https://localhost:8080/",
          "height": 80
        }
      },
      "cell_type": "code",
      "source": [
        "station_csv = ('/content/drive/My Drive/Regional_forecasts/station_info_add_360.csv')\n",
        "station = pd.read_csv(station_csv)\n",
        "station.head(1)"
      ],
      "execution_count": 17,
      "outputs": [
        {
          "output_type": "execute_result",
          "data": {
            "text/html": [
              "<div>\n",
              "<style scoped>\n",
              "    .dataframe tbody tr th:only-of-type {\n",
              "        vertical-align: middle;\n",
              "    }\n",
              "\n",
              "    .dataframe tbody tr th {\n",
              "        vertical-align: top;\n",
              "    }\n",
              "\n",
              "    .dataframe thead th {\n",
              "        text-align: right;\n",
              "    }\n",
              "</style>\n",
              "<table border=\"1\" class=\"dataframe\">\n",
              "  <thead>\n",
              "    <tr style=\"text-align: right;\">\n",
              "      <th></th>\n",
              "      <th>stid</th>\n",
              "      <th>nlat</th>\n",
              "      <th>elon</th>\n",
              "      <th>elev</th>\n",
              "    </tr>\n",
              "  </thead>\n",
              "  <tbody>\n",
              "    <tr>\n",
              "      <th>0</th>\n",
              "      <td>ACME</td>\n",
              "      <td>34.80833</td>\n",
              "      <td>261.97675</td>\n",
              "      <td>397</td>\n",
              "    </tr>\n",
              "  </tbody>\n",
              "</table>\n",
              "</div>"
            ],
            "text/plain": [
              "   stid      nlat       elon  elev\n",
              "0  ACME  34.80833  261.97675   397"
            ]
          },
          "metadata": {
            "tags": []
          },
          "execution_count": 17
        }
      ]
    },
    {
      "metadata": {
        "id": "ZfiNzjRBNY5f",
        "colab_type": "text"
      },
      "cell_type": "markdown",
      "source": [
        "**<font color='green'>Convert ตำแหน่ง lat/lon ของ solar farm ไปเป็นเลข integers เพื่อที่จะ match มันเข้ากับตำแหน่ง lat/lon ของค่าพยากณณ์อากาศที่ได้จาก nwp model</font>**"
      ]
    },
    {
      "metadata": {
        "id": "lcGqIS1tNRFE",
        "colab_type": "code",
        "outputId": "a003518b-3676-430c-bba4-e65fd5ba5576",
        "colab": {
          "base_uri": "https://localhost:8080/",
          "height": 111
        }
      },
      "cell_type": "code",
      "source": [
        "station.nlat = station.nlat.astype(int)\n",
        "station.elon = station.elon.astype(int)\n",
        "station.head(2)"
      ],
      "execution_count": 18,
      "outputs": [
        {
          "output_type": "execute_result",
          "data": {
            "text/html": [
              "<div>\n",
              "<style scoped>\n",
              "    .dataframe tbody tr th:only-of-type {\n",
              "        vertical-align: middle;\n",
              "    }\n",
              "\n",
              "    .dataframe tbody tr th {\n",
              "        vertical-align: top;\n",
              "    }\n",
              "\n",
              "    .dataframe thead th {\n",
              "        text-align: right;\n",
              "    }\n",
              "</style>\n",
              "<table border=\"1\" class=\"dataframe\">\n",
              "  <thead>\n",
              "    <tr style=\"text-align: right;\">\n",
              "      <th></th>\n",
              "      <th>stid</th>\n",
              "      <th>nlat</th>\n",
              "      <th>elon</th>\n",
              "      <th>elev</th>\n",
              "    </tr>\n",
              "  </thead>\n",
              "  <tbody>\n",
              "    <tr>\n",
              "      <th>0</th>\n",
              "      <td>ACME</td>\n",
              "      <td>34</td>\n",
              "      <td>261</td>\n",
              "      <td>397</td>\n",
              "    </tr>\n",
              "    <tr>\n",
              "      <th>1</th>\n",
              "      <td>ADAX</td>\n",
              "      <td>34</td>\n",
              "      <td>263</td>\n",
              "      <td>295</td>\n",
              "    </tr>\n",
              "  </tbody>\n",
              "</table>\n",
              "</div>"
            ],
            "text/plain": [
              "   stid  nlat  elon  elev\n",
              "0  ACME    34   261   397\n",
              "1  ADAX    34   263   295"
            ]
          },
          "metadata": {
            "tags": []
          },
          "execution_count": 18
        }
      ]
    },
    {
      "metadata": {
        "id": "eDsgSmQxNqXF",
        "colab_type": "text"
      },
      "cell_type": "markdown",
      "source": [
        "**<font color='green'>สร้าง ฟังก์ชัน station_dic จะทำการสร้าง dictionary ที่มี key เป็น (lat,lon)  ของแต่ละ solar farm และ \n",
        "<br>value เป็น feature ที่เราสนใจ ณ ตำแหน่ง (lat,lon)  ของแต่ละ solar farm นั้น</font>**\n",
        "\n"
      ]
    },
    {
      "metadata": {
        "id": "iD2dY8aUNacu",
        "colab_type": "code",
        "colab": {}
      },
      "cell_type": "code",
      "source": [
        "def station_dict(station,feature_dict):    \n",
        "    stn_dict = {}\n",
        "    for s in range(len(station)):\n",
        "        k = tuple([station.nlat[s],station.elon[s]]) #key\n",
        "        v = feature_dict[station.nlat[s],station.elon[s]] #value\n",
        "        stn_dict[k] = [v]\n",
        "    return stn_dict"
      ],
      "execution_count": 0,
      "outputs": []
    },
    {
      "metadata": {
        "id": "PLkpD575N6yV",
        "colab_type": "text"
      },
      "cell_type": "markdown",
      "source": [
        "**<font color='green'>สร้าง dictionary ของทุกๆ feature สำหรับทุกๆ solar farm </font>**"
      ]
    },
    {
      "metadata": {
        "id": "J-3ZCIPbN2fd",
        "colab_type": "code",
        "colab": {}
      },
      "cell_type": "code",
      "source": [
        "stn_temp = station_dict(station,Temp_dict)\n",
        "stn_temp2m = station_dict(station,Temp2m_dict)\n",
        "stn_tmin = station_dict(station,Tmin_dict)\n",
        "stn_tmax = station_dict(station,Tmax_dict)\n",
        "\n",
        "stn_dlwave = station_dict(station,Dlwave_dict)\n",
        "stn_dswave = station_dict(station,Dswave_dict)\n",
        "stn_ulwave = station_dict(station,Ulwave_dict)\n",
        "stn_ulwave_atm = station_dict(station,Ulwave_atm_dict)\n",
        "stn_uswave = station_dict(station,Uswave_dict)\n",
        "\n",
        "stn_press = station_dict(station,Press_dict)\n",
        "stn_cloud = station_dict(station,Cloud_dict)\n",
        "stn_precip = station_dict(station,Precip_dict)\n",
        "stn_pwat = station_dict(station,Pwat_dict)\n",
        "stn_humid = station_dict(station,Humid_dict)\n",
        "stn_conden = station_dict(station,Conden_dict)"
      ],
      "execution_count": 0,
      "outputs": []
    },
    {
      "metadata": {
        "id": "3O4S_YlMP81a",
        "colab_type": "text"
      },
      "cell_type": "markdown",
      "source": [
        "# 6.Prepare Target Data"
      ]
    },
    {
      "metadata": {
        "id": "sccBhYgWQUOO",
        "colab_type": "text"
      },
      "cell_type": "markdown",
      "source": [
        "** <font color='green'>โหลดไพล์ train.csv ซึ่งเป็นไพล์ที่ประกอบไปด้วยค่า power ของ solar farm แต่ละแห่ง(ซี่งเป็นสิ่งที่เราต้องการที่จะพยากรณ์) ในแต่ละวัน ซึ่งเรามี solar farm ทั้งหมด 98 ที่ โดยหน่วยของกำลังจะเป็น (J m-2) </font>**\n"
      ]
    },
    {
      "metadata": {
        "id": "hmu2UDj_N8l-",
        "colab_type": "code",
        "outputId": "26884911-6c8b-4b6f-ea9b-03bb1e2c780a",
        "colab": {
          "base_uri": "https://localhost:8080/",
          "height": 146
        }
      },
      "cell_type": "code",
      "source": [
        "train_csv =  '/content/drive/My Drive/Regional_forecasts/train.csv'\n",
        "y = pd.read_csv(train_csv)\n",
        "print y.shape\n",
        "y.head(1)"
      ],
      "execution_count": 21,
      "outputs": [
        {
          "output_type": "stream",
          "text": [
            "(5113, 99)\n"
          ],
          "name": "stdout"
        },
        {
          "output_type": "execute_result",
          "data": {
            "text/html": [
              "<div>\n",
              "<style scoped>\n",
              "    .dataframe tbody tr th:only-of-type {\n",
              "        vertical-align: middle;\n",
              "    }\n",
              "\n",
              "    .dataframe tbody tr th {\n",
              "        vertical-align: top;\n",
              "    }\n",
              "\n",
              "    .dataframe thead th {\n",
              "        text-align: right;\n",
              "    }\n",
              "</style>\n",
              "<table border=\"1\" class=\"dataframe\">\n",
              "  <thead>\n",
              "    <tr style=\"text-align: right;\">\n",
              "      <th></th>\n",
              "      <th>Date</th>\n",
              "      <th>ACME</th>\n",
              "      <th>ADAX</th>\n",
              "      <th>ALTU</th>\n",
              "      <th>APAC</th>\n",
              "      <th>ARNE</th>\n",
              "      <th>BEAV</th>\n",
              "      <th>BESS</th>\n",
              "      <th>BIXB</th>\n",
              "      <th>BLAC</th>\n",
              "      <th>...</th>\n",
              "      <th>VINI</th>\n",
              "      <th>WASH</th>\n",
              "      <th>WATO</th>\n",
              "      <th>WAUR</th>\n",
              "      <th>WEAT</th>\n",
              "      <th>WEST</th>\n",
              "      <th>WILB</th>\n",
              "      <th>WIST</th>\n",
              "      <th>WOOD</th>\n",
              "      <th>WYNO</th>\n",
              "    </tr>\n",
              "  </thead>\n",
              "  <tbody>\n",
              "    <tr>\n",
              "      <th>0</th>\n",
              "      <td>19940101</td>\n",
              "      <td>12384900</td>\n",
              "      <td>11930700</td>\n",
              "      <td>12116700</td>\n",
              "      <td>12301200</td>\n",
              "      <td>10706100</td>\n",
              "      <td>10116900</td>\n",
              "      <td>11487900</td>\n",
              "      <td>11182800</td>\n",
              "      <td>10848300</td>\n",
              "      <td>...</td>\n",
              "      <td>10771800</td>\n",
              "      <td>12116400</td>\n",
              "      <td>11308800</td>\n",
              "      <td>12361800</td>\n",
              "      <td>11331600</td>\n",
              "      <td>10644300</td>\n",
              "      <td>11715600</td>\n",
              "      <td>11241000</td>\n",
              "      <td>10490100</td>\n",
              "      <td>10545300</td>\n",
              "    </tr>\n",
              "  </tbody>\n",
              "</table>\n",
              "<p>1 rows × 99 columns</p>\n",
              "</div>"
            ],
            "text/plain": [
              "       Date      ACME      ADAX      ALTU      APAC      ARNE      BEAV  \\\n",
              "0  19940101  12384900  11930700  12116700  12301200  10706100  10116900   \n",
              "\n",
              "       BESS      BIXB      BLAC    ...         VINI      WASH      WATO  \\\n",
              "0  11487900  11182800  10848300    ...     10771800  12116400  11308800   \n",
              "\n",
              "       WAUR      WEAT      WEST      WILB      WIST      WOOD      WYNO  \n",
              "0  12361800  11331600  10644300  11715600  11241000  10490100  10545300  \n",
              "\n",
              "[1 rows x 99 columns]"
            ]
          },
          "metadata": {
            "tags": []
          },
          "execution_count": 21
        }
      ]
    },
    {
      "metadata": {
        "id": "MC2IOzWhQazl",
        "colab_type": "text"
      },
      "cell_type": "markdown",
      "source": [
        "** <font color='green'>เปลี่ยน date ที่อยู่ในรูปแบบ integer ให้อยู่ในรูปแบบ pandas date time</font>**"
      ]
    },
    {
      "metadata": {
        "id": "qNND0RY8QXSb",
        "colab_type": "code",
        "outputId": "6c8264b0-4620-4ca2-efa2-501a5a0a369a",
        "colab": {
          "base_uri": "https://localhost:8080/",
          "height": 68
        }
      },
      "cell_type": "code",
      "source": [
        "y['Date'] = pd.to_datetime(y['Date'], format='%Y%m%d')\n",
        "y.Date.head(2)"
      ],
      "execution_count": 22,
      "outputs": [
        {
          "output_type": "execute_result",
          "data": {
            "text/plain": [
              "0   1994-01-01\n",
              "1   1994-01-02\n",
              "Name: Date, dtype: datetime64[ns]"
            ]
          },
          "metadata": {
            "tags": []
          },
          "execution_count": 22
        }
      ]
    },
    {
      "metadata": {
        "id": "OnFfS9xfQkuW",
        "colab_type": "text"
      },
      "cell_type": "markdown",
      "source": [
        "# 7.Setup Prediction for One Station "
      ]
    },
    {
      "metadata": {
        "id": "DKKW_1NEQnmF",
        "colab_type": "text"
      },
      "cell_type": "markdown",
      "source": [
        "<font color='green'>\n",
        "แบ่ง label ของเราซึ่งก็คือค่า power แต่ละ solar far ออกเป็น 3 ชุด คือ\n",
        "<br>  shape ของ label ทั้งหมดของเราคือ (5112,99)\n",
        "<br>0-1704 shape คือ (1704, 99)\n",
        "<br>1704-3408 shape คือ (1704, 99)\n",
        "<br>3408-5112 shape คือ (1704, 99)\n",
        "</font>\n",
        "\n"
      ]
    },
    {
      "metadata": {
        "id": "RoQynB49QdAN",
        "colab_type": "code",
        "outputId": "2e026a27-7a1f-4cd4-d1e9-a451eedaea6a",
        "colab": {
          "base_uri": "https://localhost:8080/",
          "height": 197
        }
      },
      "cell_type": "code",
      "source": [
        "\n",
        "subset1 = y.iloc[:,1] #เอาทุกแถวแต่เอา col ที่ 1 อย่างเดียว ก็คือ ACME station\n",
        "subset1 = y[0:1704] #เอาแถวที่ 0 ถึงแถวที่ 1704\n",
        "print subset1.shape \n",
        "\n",
        "subset2 = y.iloc[:,1] #เอาทุกแถวแต่เอา col ที่ 1 อย่างเดียว ก็คือ ACME station\n",
        "subset2 = y[1704:3408] #เอาแถวที่ 1704 ถึงแถวที่ 3408\n",
        "print subset2.shape\n",
        "\n",
        "subset3 = y.iloc[:,1] #เอาทุกแถวแต่เอา col ที่ 1 อย่างเดียว ก็คือ ACME station\n",
        "subset3 = y[3408:5112] #เอาแถวที่ 3408 ถึงแถวที่ 5112\n",
        "print subset3.shape\n",
        "subset3.head(1)\n"
      ],
      "execution_count": 23,
      "outputs": [
        {
          "output_type": "stream",
          "text": [
            "(1704, 99)\n",
            "(1704, 99)\n",
            "(1704, 99)\n"
          ],
          "name": "stdout"
        },
        {
          "output_type": "execute_result",
          "data": {
            "text/html": [
              "<div>\n",
              "<style scoped>\n",
              "    .dataframe tbody tr th:only-of-type {\n",
              "        vertical-align: middle;\n",
              "    }\n",
              "\n",
              "    .dataframe tbody tr th {\n",
              "        vertical-align: top;\n",
              "    }\n",
              "\n",
              "    .dataframe thead th {\n",
              "        text-align: right;\n",
              "    }\n",
              "</style>\n",
              "<table border=\"1\" class=\"dataframe\">\n",
              "  <thead>\n",
              "    <tr style=\"text-align: right;\">\n",
              "      <th></th>\n",
              "      <th>Date</th>\n",
              "      <th>ACME</th>\n",
              "      <th>ADAX</th>\n",
              "      <th>ALTU</th>\n",
              "      <th>APAC</th>\n",
              "      <th>ARNE</th>\n",
              "      <th>BEAV</th>\n",
              "      <th>BESS</th>\n",
              "      <th>BIXB</th>\n",
              "      <th>BLAC</th>\n",
              "      <th>...</th>\n",
              "      <th>VINI</th>\n",
              "      <th>WASH</th>\n",
              "      <th>WATO</th>\n",
              "      <th>WAUR</th>\n",
              "      <th>WEAT</th>\n",
              "      <th>WEST</th>\n",
              "      <th>WILB</th>\n",
              "      <th>WIST</th>\n",
              "      <th>WOOD</th>\n",
              "      <th>WYNO</th>\n",
              "    </tr>\n",
              "  </thead>\n",
              "  <tbody>\n",
              "    <tr>\n",
              "      <th>3408</th>\n",
              "      <td>2003-05-02</td>\n",
              "      <td>16656900</td>\n",
              "      <td>22253400</td>\n",
              "      <td>12807000</td>\n",
              "      <td>19178400</td>\n",
              "      <td>20463000</td>\n",
              "      <td>26210400</td>\n",
              "      <td>15944400</td>\n",
              "      <td>23589000</td>\n",
              "      <td>23049300</td>\n",
              "      <td>...</td>\n",
              "      <td>24110700</td>\n",
              "      <td>19213500</td>\n",
              "      <td>22429500</td>\n",
              "      <td>11215800</td>\n",
              "      <td>19777500</td>\n",
              "      <td>17304000</td>\n",
              "      <td>25230300</td>\n",
              "      <td>11431500</td>\n",
              "      <td>23100300</td>\n",
              "      <td>24744600</td>\n",
              "    </tr>\n",
              "  </tbody>\n",
              "</table>\n",
              "<p>1 rows × 99 columns</p>\n",
              "</div>"
            ],
            "text/plain": [
              "           Date      ACME      ADAX      ALTU      APAC      ARNE      BEAV  \\\n",
              "3408 2003-05-02  16656900  22253400  12807000  19178400  20463000  26210400   \n",
              "\n",
              "          BESS      BIXB      BLAC    ...         VINI      WASH      WATO  \\\n",
              "3408  15944400  23589000  23049300    ...     24110700  19213500  22429500   \n",
              "\n",
              "          WAUR      WEAT      WEST      WILB      WIST      WOOD      WYNO  \n",
              "3408  11215800  19777500  17304000  25230300  11431500  23100300  24744600  \n",
              "\n",
              "[1 rows x 99 columns]"
            ]
          },
          "metadata": {
            "tags": []
          },
          "execution_count": 23
        }
      ]
    },
    {
      "metadata": {
        "id": "87wTpJ8qSNY0",
        "colab_type": "text"
      },
      "cell_type": "markdown",
      "source": [
        "**<font color='green'>หลังจากนั้นเราจะ drop cloumn (elev) ซึ่งเป็นระดับความสู้ของแต่ละ solar farm ทิ้ง และ convert จาก <br>dataframe ไปเป็น dictionary(stn_dict) ที่มี key เป็น ชื่อของ solar farm station และ value เป็นค่า (lat,lon) ของ solar farm  นั้นสิ่งที่ได้ก็คือ**\n",
        "<br> key ('ACME') => [34, 261]\n",
        "<br> key ('ADAX') => [34, 263]\n",
        "<br>.\n",
        "<br>key ('WYNO') =>[36, 263]\n",
        "<br> เป็นต้น\n",
        "</font>\n",
        "\n"
      ]
    },
    {
      "metadata": {
        "id": "4iJBoCALRkR0",
        "colab_type": "code",
        "outputId": "e77abd18-01cd-4d10-e724-ae31056b6958",
        "colab": {
          "base_uri": "https://localhost:8080/",
          "height": 34
        }
      },
      "cell_type": "code",
      "source": [
        "stn = station.drop('elev',1)\n",
        "stn_dict = stn.set_index('stid').T.to_dict('list')\n",
        "stn_dict['ACME']"
      ],
      "execution_count": 27,
      "outputs": [
        {
          "output_type": "execute_result",
          "data": {
            "text/plain": [
              "[34, 261]"
            ]
          },
          "metadata": {
            "tags": []
          },
          "execution_count": 27
        }
      ]
    },
    {
      "metadata": {
        "id": "7HJqC6xmSdkc",
        "colab_type": "text"
      },
      "cell_type": "markdown",
      "source": [
        "<font color='green'>\n",
        "ฟังก์ชัน  station_feature หน้าที่ของฟังก์ชันนี้ก็คือ  ก่อนอื่นของอธิบาย parameter ก่อน\n",
        " <br>.\n",
        "<br> - **stn_feat 1-15** คือค่าของ feature ในแต่ละ solar farm ที่มี key เป็น (lat,lon)  ของแต่ละ solar farm \n",
        "<br>และ value เป็น feature ที่เราสนใจ ณ ตำแหน่ง (lat,lon)  ของแต่ละ solar farm นั้น\n",
        "<br> key (lat,lon) => ค่าของ feature ที่เราสนใจ ณ ตำแหน่ง (lat,lon)  ของแต่ละ solar farm นั้น\n",
        "<br>.\n",
        "<br> - **stn_dict** คือ  dictionary(stn_dict) ที่มี key เป็น ชื่อของ solar farm station และ value เป็นค่า (lat, lon) ของ solar farm นั้น\n",
        " <br> key ('ACME') => value (lat,lon)\n",
        "  <br>.\n",
        "<br> start คือ จะเริ่มที่ sample ที่เท่าไรของข้อมูล\n",
        "<br> end คือ เอาข้อมูลถึง sample ที่เท่าไร\n",
        "<br> stid คือ ชื่อของ solar farm station\n",
        " <br>โดยฟังก์ชันนี้จะ return ค่าของ feature ณ ตำแหน่ง lat/lon ของ solar farm นั้นออกมา\n",
        "</font>\n",
        "\n",
        "\n"
      ]
    },
    {
      "metadata": {
        "id": "AA87SuvqRlZk",
        "colab_type": "code",
        "colab": {}
      },
      "cell_type": "code",
      "source": [
        "def station_feature(stn_feat1, stn_feat2, stn_feat3,stn_feat4,stn_feat5,stn_feat6,stn_feat7,stn_feat8,stn_feat9,\n",
        "                    stn_feat10, stn_feat11, stn_feat12, stn_feat13, stn_feat14, stn_feat15,\n",
        "                    stn_dict, start, end, stid='stid'):\n",
        "    \n",
        "    sub_feat1_stn = stn_feat1[stn_dict[stid][0],stn_dict[stid][1]][0][0][start:end]\n",
        "    sub_feat2_stn = stn_feat2[stn_dict[stid][0],stn_dict[stid][1]][0][0][start:end]\n",
        "    sub_feat3_stn = stn_feat3[stn_dict[stid][0],stn_dict[stid][1]][0][0][start:end]\n",
        "    sub_feat4_stn = stn_feat4[stn_dict[stid][0],stn_dict[stid][1]][0][0][start:end]\n",
        "    sub_feat5_stn = stn_feat5[stn_dict[stid][0],stn_dict[stid][1]][0][0][start:end]\n",
        "    sub_feat6_stn = stn_feat6[stn_dict[stid][0],stn_dict[stid][1]][0][0][start:end]\n",
        "    sub_feat7_stn = stn_feat7[stn_dict[stid][0],stn_dict[stid][1]][0][0][start:end]\n",
        "    sub_feat8_stn = stn_feat8[stn_dict[stid][0],stn_dict[stid][1]][0][0][start:end]\n",
        "    sub_feat9_stn = stn_feat9[stn_dict[stid][0],stn_dict[stid][1]][0][0][start:end]\n",
        "    sub_feat10_stn = stn_feat10[stn_dict[stid][0],stn_dict[stid][1]][0][0][start:end]\n",
        "    sub_feat11_stn = stn_feat11[stn_dict[stid][0],stn_dict[stid][1]][0][0][start:end]\n",
        "    sub_feat12_stn = stn_feat12[stn_dict[stid][0],stn_dict[stid][1]][0][0][start:end]\n",
        "    sub_feat13_stn = stn_feat13[stn_dict[stid][0],stn_dict[stid][1]][0][0][start:end]\n",
        "    sub_feat14_stn = stn_feat14[stn_dict[stid][0],stn_dict[stid][1]][0][0][start:end]\n",
        "    sub_feat15_stn = stn_feat15[stn_dict[stid][0],stn_dict[stid][1]][0][0][start:end]\n",
        "\n",
        "    \n",
        "    return sub_feat1_stn,sub_feat2_stn,sub_feat3_stn,sub_feat4_stn,sub_feat5_stn, sub_feat6_stn,sub_feat7_stn,sub_feat8_stn,sub_feat9_stn,sub_feat10_stn, sub_feat11_stn,sub_feat12_stn,sub_feat13_stn,sub_feat14_stn,sub_feat15_stn\n"
      ],
      "execution_count": 0,
      "outputs": []
    },
    {
      "metadata": {
        "id": "bG_UJB6TSpB8",
        "colab_type": "text"
      },
      "cell_type": "markdown",
      "source": [
        "<font color='green'>ใช้ฟังก์ชัน station_feature(ค่าพยากรณ์อากาศต่างๆ จาก nwp model) เพื่อหาค่าของแต่ละ feature ณ ตำแหน่ง solar farm นั้นออกมา แต่ตอนนี้เราคิดที่ ACME solar farm</font> \n"
      ]
    },
    {
      "metadata": {
        "id": "wKi1TdzMSlnx",
        "colab_type": "code",
        "colab": {}
      },
      "cell_type": "code",
      "source": [
        "sub_press_ACME, sub_temp_ACME, sub_temp2m_ACME, sub_tmin_ACME, sub_tmax_ACME,sub_dlwave_ACME, sub_dswave_ACME, sub_ulwave_ACME, sub_ulwave_atm_ACME, sub_uswave_ACME, sub_cloud_ACME, sub_precip_ACME, sub_pwat_ACME,sub_humid_ACME, sub_conden_ACME = station_feature(stn_press,\n",
        "                  stn_temp,\n",
        "                  stn_temp2m,\n",
        "                  stn_tmin,\n",
        "                  stn_tmax,\n",
        "                  stn_dlwave,\n",
        "                  stn_dswave,\n",
        "                  stn_ulwave,\n",
        "                  stn_ulwave_atm,\n",
        "                  stn_uswave,\n",
        "                  stn_cloud,\n",
        "                  stn_precip,\n",
        "                  stn_pwat,\n",
        "                  stn_humid,\n",
        "                  stn_conden,\n",
        "                  stn_dict,0,5113,stid='ACME')"
      ],
      "execution_count": 0,
      "outputs": []
    },
    {
      "metadata": {
        "id": "vT9IcJwwvLuo",
        "colab_type": "text"
      },
      "cell_type": "markdown",
      "source": [
        "<font color='green'>เย้ ได้ค่าของ feature ที่ตำแหน่ง ACME solar farm  ออกมาแล้ว</font>"
      ]
    },
    {
      "metadata": {
        "id": "Yo9Tqr8LvJEf",
        "colab_type": "code",
        "colab": {
          "base_uri": "https://localhost:8080/",
          "height": 272
        },
        "outputId": "7541a9dd-aafd-4879-b44b-078905cdacfd"
      },
      "cell_type": "code",
      "source": [
        "print sub_press_ACME\n",
        "print sub_temp_ACME\n",
        "print sub_temp2m_ACME\n",
        "print sub_tmin_ACME\n",
        "print sub_tmax_ACME\n",
        "print sub_dlwave_ACME\n",
        "print sub_dswave_ACME\n",
        "print sub_ulwave_ACME\n",
        "print sub_ulwave_atm_ACME\n",
        "print sub_uswave_ACME\n",
        "print sub_cloud_ACME\n",
        "print sub_precip_ACME\n",
        "print sub_pwat_ACME\n",
        "print sub_humid_ACME\n",
        "print sub_conden_ACME"
      ],
      "execution_count": 38,
      "outputs": [
        {
          "output_type": "stream",
          "text": [
            "[101989.74  101313.04  102099.58  ... 102080.03  101850.875 102458.55 ]\n",
            "[280.1507  282.4783  279.2167  ... 274.97382 274.41183 276.14178]\n",
            "[281.05185 284.40945 280.9337  ... 277.72485 277.46707 278.19583]\n",
            "[280.75497 279.35657 274.66104 ... 269.51807 271.90134 276.6831 ]\n",
            "[287.06747 289.03152 280.93582 ... 279.64572 281.82736 282.37708]\n",
            "[261.03827 260.19702 231.6105  ... 236.40387 230.      237.33813]\n",
            "[220. 210. 220. ... 210. 220. 220.]\n",
            "[362.      357.92477 340.07877 ... 321.91592 330.91162 340.32285]\n",
            "[255.97485 253.53503 246.00128 ... 229.00641 246.2328  252.46622]\n",
            "[51. 49. 52. ... 48. 55. 55.]\n",
            "[0.   0.   0.   ... 0.03 0.   0.  ]\n",
            "[0. 0. 0. ... 0. 0. 0.]\n",
            "[ 8.6       10.2        6.2       ...  8.600041   4.9549904  4.468974 ]\n",
            "[0.00336    0.00299    0.00277511 ... 0.00243    0.00306803 0.0019048 ]\n",
            "[1.30e-03 3.00e-04 3.00e-04 ... 3.03e-02 1.00e-04 1.00e-04]\n"
          ],
          "name": "stdout"
        }
      ]
    },
    {
      "metadata": {
        "id": "_W-QbWLPSy6l",
        "colab_type": "text"
      },
      "cell_type": "markdown",
      "source": [
        "#8.Model Prediction for one station"
      ]
    },
    {
      "metadata": {
        "id": "q48gz653TLn7",
        "colab_type": "text"
      },
      "cell_type": "markdown",
      "source": [
        "**<font color='green'>ทำการพยากรณ์ power ที่ ACME solar farm</font>**"
      ]
    },
    {
      "metadata": {
        "id": "w4CYWLLmSry3",
        "colab_type": "code",
        "colab": {}
      },
      "cell_type": "code",
      "source": [
        "sub_press, sub_temp, sub_temp2m, sub_tmin, sub_tmax, sub_dlwave, sub_dswave, sub_ulwave, sub_ulwave_atm, sub_uswave, sub_cloud, sub_precip, sub_pwat,sub_humid, sub_conden = station_feature(stn_press,\n",
        "                  stn_temp,\n",
        "                  stn_temp2m,\n",
        "                  stn_tmin,\n",
        "                  stn_tmax,\n",
        "                  stn_dlwave,\n",
        "                  stn_dswave,\n",
        "                  stn_ulwave,\n",
        "                  stn_ulwave_atm,\n",
        "                  stn_uswave,\n",
        "                  stn_cloud,\n",
        "                  stn_precip,\n",
        "                  stn_pwat,\n",
        "                  stn_humid,\n",
        "                  stn_conden,\n",
        "                  stn_dict,0,5113,stid = station.stid[0]) #station.stid[0] = ACME"
      ],
      "execution_count": 0,
      "outputs": []
    },
    {
      "metadata": {
        "id": "pH_Kq7QA0FCA",
        "colab_type": "text"
      },
      "cell_type": "markdown",
      "source": [
        "**<font color='green'>print ค่าพยากณณ์อากาศต่างๆ ที่ ACME solar farm</font>**"
      ]
    },
    {
      "metadata": {
        "id": "YPztoJ0gzx3H",
        "colab_type": "code",
        "colab": {
          "base_uri": "https://localhost:8080/",
          "height": 272
        },
        "outputId": "f7efa2a4-6cec-42b2-8f3b-6b7616bdd6bf"
      },
      "cell_type": "code",
      "source": [
        "print sub_press\n",
        "print sub_temp\n",
        "print sub_temp2m\n",
        "print sub_tmin\n",
        "print sub_tmax\n",
        "print sub_dlwave\n",
        "print sub_dswave\n",
        "print sub_ulwave\n",
        "print sub_ulwave_atm\n",
        "print sub_uswave\n",
        "print sub_cloud\n",
        "print sub_precip\n",
        "print sub_pwat\n",
        "print sub_humid\n",
        "print sub_conden\n"
      ],
      "execution_count": 43,
      "outputs": [
        {
          "output_type": "stream",
          "text": [
            "[101989.74  101313.04  102099.58  ... 102080.03  101850.875 102458.55 ]\n",
            "[280.1507  282.4783  279.2167  ... 274.97382 274.41183 276.14178]\n",
            "[281.05185 284.40945 280.9337  ... 277.72485 277.46707 278.19583]\n",
            "[280.75497 279.35657 274.66104 ... 269.51807 271.90134 276.6831 ]\n",
            "[287.06747 289.03152 280.93582 ... 279.64572 281.82736 282.37708]\n",
            "[261.03827 260.19702 231.6105  ... 236.40387 230.      237.33813]\n",
            "[220. 210. 220. ... 210. 220. 220.]\n",
            "[362.      357.92477 340.07877 ... 321.91592 330.91162 340.32285]\n",
            "[255.97485 253.53503 246.00128 ... 229.00641 246.2328  252.46622]\n",
            "[51. 49. 52. ... 48. 55. 55.]\n",
            "[0.   0.   0.   ... 0.03 0.   0.  ]\n",
            "[0. 0. 0. ... 0. 0. 0.]\n",
            "[ 8.6       10.2        6.2       ...  8.600041   4.9549904  4.468974 ]\n",
            "[0.00336    0.00299    0.00277511 ... 0.00243    0.00306803 0.0019048 ]\n",
            "[1.30e-03 3.00e-04 3.00e-04 ... 3.03e-02 1.00e-04 1.00e-04]\n"
          ],
          "name": "stdout"
        }
      ]
    },
    {
      "metadata": {
        "id": "rE8rbl7TTwSd",
        "colab_type": "text"
      },
      "cell_type": "markdown",
      "source": [
        "**<font color='green'>สร้างตัวแปร target (mesonet)  ซี่งก็คือค่า  power ที่  \"ACME\" station</font>**\n"
      ]
    },
    {
      "metadata": {
        "id": "DfbSR2ZCTk-V",
        "colab_type": "code",
        "outputId": "68e1bbf7-d64e-425a-d111-cc145b8b8789",
        "colab": {
          "base_uri": "https://localhost:8080/",
          "height": 136
        }
      },
      "cell_type": "code",
      "source": [
        "mesonet = y[station.stid[0]][0:5113] #station.stid[0] = ACME, needs to be from 0:1704\n",
        "\n",
        "print 'Target variable'\n",
        "print mesonet[0:5]"
      ],
      "execution_count": 44,
      "outputs": [
        {
          "output_type": "stream",
          "text": [
            "Target variable\n",
            "0    12384900\n",
            "1    11908500\n",
            "2    12470700\n",
            "3    12725400\n",
            "4    10894800\n",
            "Name: ACME, dtype: int64\n"
          ],
          "name": "stdout"
        }
      ]
    },
    {
      "metadata": {
        "id": "hLDaHp3CUBnB",
        "colab_type": "text"
      },
      "cell_type": "markdown",
      "source": [
        "**<font color='green'>ให้ X  คือ dataframe ของ feature ต่างๆ ที่ \"ACME\" solar farm station</font>**"
      ]
    },
    {
      "metadata": {
        "id": "KVhkkKQQT-4A",
        "colab_type": "code",
        "outputId": "295c836a-5666-4f72-a7e0-43d3400efd11",
        "colab": {
          "base_uri": "https://localhost:8080/",
          "height": 97
        }
      },
      "cell_type": "code",
      "source": [
        "X = pd.DataFrame({'press':sub_press,'temp':sub_temp,'temp2m':sub_temp2m,'tmin':sub_tmin,'tmax':sub_tmax,'dlwave':sub_dlwave,\n",
        "                  'dswave':sub_dswave,'ulwave':sub_ulwave,'ulwave_atm':sub_ulwave_atm,'uswave':sub_uswave,'cloud':sub_cloud,\n",
        "                 'precip':sub_precip,'pwat':sub_pwat,'humid':sub_humid,'conden':sub_conden})\n",
        "print 'Predictor variables'\n",
        "X.head(1)"
      ],
      "execution_count": 45,
      "outputs": [
        {
          "output_type": "stream",
          "text": [
            "Predictor variables\n"
          ],
          "name": "stdout"
        },
        {
          "output_type": "execute_result",
          "data": {
            "text/html": [
              "<div>\n",
              "<style scoped>\n",
              "    .dataframe tbody tr th:only-of-type {\n",
              "        vertical-align: middle;\n",
              "    }\n",
              "\n",
              "    .dataframe tbody tr th {\n",
              "        vertical-align: top;\n",
              "    }\n",
              "\n",
              "    .dataframe thead th {\n",
              "        text-align: right;\n",
              "    }\n",
              "</style>\n",
              "<table border=\"1\" class=\"dataframe\">\n",
              "  <thead>\n",
              "    <tr style=\"text-align: right;\">\n",
              "      <th></th>\n",
              "      <th>cloud</th>\n",
              "      <th>conden</th>\n",
              "      <th>dlwave</th>\n",
              "      <th>dswave</th>\n",
              "      <th>humid</th>\n",
              "      <th>precip</th>\n",
              "      <th>press</th>\n",
              "      <th>pwat</th>\n",
              "      <th>temp</th>\n",
              "      <th>temp2m</th>\n",
              "      <th>tmax</th>\n",
              "      <th>tmin</th>\n",
              "      <th>ulwave</th>\n",
              "      <th>ulwave_atm</th>\n",
              "      <th>uswave</th>\n",
              "    </tr>\n",
              "  </thead>\n",
              "  <tbody>\n",
              "    <tr>\n",
              "      <th>0</th>\n",
              "      <td>0.0</td>\n",
              "      <td>0.0013</td>\n",
              "      <td>261.038269</td>\n",
              "      <td>220.0</td>\n",
              "      <td>0.00336</td>\n",
              "      <td>0.0</td>\n",
              "      <td>101989.742188</td>\n",
              "      <td>8.6</td>\n",
              "      <td>280.150696</td>\n",
              "      <td>281.051849</td>\n",
              "      <td>287.067474</td>\n",
              "      <td>280.754974</td>\n",
              "      <td>362.0</td>\n",
              "      <td>255.974854</td>\n",
              "      <td>51.0</td>\n",
              "    </tr>\n",
              "  </tbody>\n",
              "</table>\n",
              "</div>"
            ],
            "text/plain": [
              "   cloud  conden      dlwave  dswave    humid  precip          press  pwat  \\\n",
              "0    0.0  0.0013  261.038269   220.0  0.00336     0.0  101989.742188   8.6   \n",
              "\n",
              "         temp      temp2m        tmax        tmin  ulwave  ulwave_atm  uswave  \n",
              "0  280.150696  281.051849  287.067474  280.754974   362.0  255.974854    51.0  "
            ]
          },
          "metadata": {
            "tags": []
          },
          "execution_count": 45
        }
      ]
    },
    {
      "metadata": {
        "id": "uvvZeOTLUah-",
        "colab_type": "text"
      },
      "cell_type": "markdown",
      "source": [
        "**<font color='green'> Standardize variables</font>**"
      ]
    },
    {
      "metadata": {
        "id": "YA8VG1BvUWB8",
        "colab_type": "code",
        "outputId": "aab7a3ee-878c-4b42-ec09-d55941867ddb",
        "colab": {
          "base_uri": "https://localhost:8080/",
          "height": 85
        }
      },
      "cell_type": "code",
      "source": [
        "from sklearn.preprocessing import StandardScaler\n",
        "ss = StandardScaler()\n",
        "Xs = ss.fit_transform(X)"
      ],
      "execution_count": 46,
      "outputs": [
        {
          "output_type": "stream",
          "text": [
            "/usr/local/lib/python2.7/dist-packages/sklearn/preprocessing/data.py:645: DataConversionWarning: Data with input dtype float32 were all converted to float64 by StandardScaler.\n",
            "  return self.partial_fit(X, y)\n",
            "/usr/local/lib/python2.7/dist-packages/sklearn/base.py:464: DataConversionWarning: Data with input dtype float32 were all converted to float64 by StandardScaler.\n",
            "  return self.fit(X, **fit_params).transform(X)\n"
          ],
          "name": "stderr"
        }
      ]
    },
    {
      "metadata": {
        "id": "2HBQnSEPVYEH",
        "colab_type": "text"
      },
      "cell_type": "markdown",
      "source": [
        "**<font color='green'>Multi-linear model using sklearn</font>**"
      ]
    },
    {
      "metadata": {
        "id": "HFFTedyhUdY7",
        "colab_type": "code",
        "colab": {}
      },
      "cell_type": "code",
      "source": [
        "from sklearn.model_selection import cross_val_score, cross_val_predict\n",
        "from sklearn import metrics\n",
        "from sklearn.linear_model import LinearRegression\n",
        "from sklearn.model_selection import train_test_split"
      ],
      "execution_count": 0,
      "outputs": []
    },
    {
      "metadata": {
        "id": "cYWPJN0aV8PL",
        "colab_type": "text"
      },
      "cell_type": "markdown",
      "source": [
        "**<font color='green'>Divide into test/train split</font>**"
      ]
    },
    {
      "metadata": {
        "id": "fzOh9RpUVzOF",
        "colab_type": "code",
        "outputId": "08099925-22cb-4646-ec95-111e342df04a",
        "colab": {
          "base_uri": "https://localhost:8080/",
          "height": 51
        }
      },
      "cell_type": "code",
      "source": [
        "X_train, X_test, y_train, y_test = train_test_split(Xs, mesonet, test_size=0.9)\n",
        "mlr = LinearRegression()\n",
        "mlr.fit(X_train, y_train)"
      ],
      "execution_count": 48,
      "outputs": [
        {
          "output_type": "execute_result",
          "data": {
            "text/plain": [
              "LinearRegression(copy_X=True, fit_intercept=True, n_jobs=None,\n",
              "         normalize=False)"
            ]
          },
          "metadata": {
            "tags": []
          },
          "execution_count": 48
        }
      ]
    },
    {
      "metadata": {
        "id": "tJvoLrDKWGqD",
        "colab_type": "text"
      },
      "cell_type": "markdown",
      "source": [
        "**<font color='green'>Evaluate</font>**"
      ]
    },
    {
      "metadata": {
        "id": "UixoLOKoWECf",
        "colab_type": "code",
        "outputId": "c0e0fe4c-d1f0-4dc7-ccd2-5a3e923de15a",
        "colab": {
          "base_uri": "https://localhost:8080/",
          "height": 85
        }
      },
      "cell_type": "code",
      "source": [
        "print 'Test Score'\n",
        "print mlr.score(X_test, y_test)\n",
        "print 'Train Score'\n",
        "print mlr.score(X_train, y_train)"
      ],
      "execution_count": 49,
      "outputs": [
        {
          "output_type": "stream",
          "text": [
            "Test Score\n",
            "0.7749399862112576\n",
            "Train Score\n",
            "0.7587727130337231\n"
          ],
          "name": "stdout"
        }
      ]
    },
    {
      "metadata": {
        "id": "s9ldvpU0WRJh",
        "colab_type": "text"
      },
      "cell_type": "markdown",
      "source": [
        "**<font color='green'>Perform 5-fold cross validation</font>**"
      ]
    },
    {
      "metadata": {
        "id": "v1doB6RHWLyY",
        "colab_type": "code",
        "outputId": "1d67e700-60b2-406d-9f0d-29e11774a704",
        "colab": {
          "base_uri": "https://localhost:8080/",
          "height": 51
        }
      },
      "cell_type": "code",
      "source": [
        "scores = cross_val_score(mlr, X_train, y_train, cv=10)\n",
        "print \"Cross-validated scores:\", scores"
      ],
      "execution_count": 50,
      "outputs": [
        {
          "output_type": "stream",
          "text": [
            "Cross-validated scores: [0.7233376  0.6589547  0.83836188 0.74949864 0.59043731 0.84316504\n",
            " 0.7169481  0.54446624 0.74641008 0.81398921]\n"
          ],
          "name": "stdout"
        }
      ]
    },
    {
      "metadata": {
        "id": "1OrCBMOQWb_c",
        "colab_type": "text"
      },
      "cell_type": "markdown",
      "source": [
        "**<font color='green'>Make cross validated predictions on the test sets</font>**"
      ]
    },
    {
      "metadata": {
        "id": "3T2Tjz1yWV1Q",
        "colab_type": "code",
        "colab": {}
      },
      "cell_type": "code",
      "source": [
        "predictions = cross_val_predict(mlr, X_test, y_test, cv=10)"
      ],
      "execution_count": 0,
      "outputs": []
    },
    {
      "metadata": {
        "id": "solFuthvWhLL",
        "colab_type": "code",
        "colab": {}
      },
      "cell_type": "code",
      "source": [
        "mlr_pred = cross_val_predict(mlr, Xs, mesonet, cv=5)"
      ],
      "execution_count": 0,
      "outputs": []
    },
    {
      "metadata": {
        "id": "KG3v_7KeWt_N",
        "colab_type": "code",
        "outputId": "ff690378-99d3-4630-c941-fb8fdd61c2e5",
        "colab": {
          "base_uri": "https://localhost:8080/",
          "height": 393
        }
      },
      "cell_type": "code",
      "source": [
        "plt.scatter(y_test, predictions,alpha=0.4,color='blue')\n",
        "plt.xlabel('Solar Predicted - Multi-linear Regression')\n",
        "plt.ylabel('Solar Energy - Actual')\n",
        "plt.title('Predicted versus Actual in 1994 at ACME Mesonet')\n",
        "\n",
        "r2 = metrics.r2_score(y_test, predictions)\n",
        "print \"Cross-Predicted R2:\", r2\n",
        "plt.savefig('ACME_pred_vs_actual.png')\n",
        "plt.show()\n"
      ],
      "execution_count": 53,
      "outputs": [
        {
          "output_type": "stream",
          "text": [
            "Cross-Predicted R2: 0.7791764060512993\n"
          ],
          "name": "stdout"
        },
        {
          "output_type": "display_data",
          "data": {
            "image/png": "[encoded data removed]",
            "text/plain": [
              "<Figure size 576x396 with 1 Axes>"
            ]
          },
          "metadata": {
            "tags": []
          }
        }
      ]
    },
    {
      "metadata": {
        "id": "2dJJwTTg26_I",
        "colab_type": "code",
        "colab": {}
      },
      "cell_type": "code",
      "source": [
        ""
      ],
      "execution_count": 0,
      "outputs": []
    }
  ]
}